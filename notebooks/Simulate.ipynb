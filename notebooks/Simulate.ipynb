{
 "cells": [
  {
   "cell_type": "code",
   "execution_count": 1,
   "id": "121b36d1",
   "metadata": {},
   "outputs": [],
   "source": [
    "import sys\n",
    "from matplotlib import pyplot as plt\n",
    "import numpy as np \n",
    "import pandas as pd\n",
    "\n",
    "sys.path.append('../')\n",
    "from model import Model\n",
    "from image_generation import generate_block\n",
    "from scipy import signal, ndimage\n",
    "from copy import deepcopy\n",
    "from utils import extract_window\n",
    "\n",
    "from scipy import signal, ndimage, interpolate\n",
    "from functools import partial\n",
    "import cProfile\n",
    "from pathlib import Path\n",
    "\n",
    "cmap='plasma'\n",
    "np.set_printoptions(precision=3)"
   ]
  },
  {
   "cell_type": "code",
   "execution_count": 12,
   "id": "b7dcbb67",
   "metadata": {},
   "outputs": [
    {
     "data": {
      "text/plain": [
       "[<matplotlib.lines.Line2D at 0x1696bcc40>]"
      ]
     },
     "execution_count": 12,
     "metadata": {},
     "output_type": "execute_result"
    },
    {
     "data": {
      "image/png": "[encoded data removed]",
      "text/plain": [
       "<Figure size 432x288 with 1 Axes>"
      ]
     },
     "metadata": {
      "needs_background": "light"
     },
     "output_type": "display_data"
    }
   ],
   "source": [
    "sigma = 30\n",
    "mu = 90\n",
    "x = np.arange(0, 180)\n",
    "hg = np.exp(-((x-mu) ** 2) / (2 * sigma ** 2))\n",
    "plt.plot(x, hg / np.sum(hg))"
   ]
  },
  {
   "cell_type": "code",
   "execution_count": 54,
   "id": "ac51da52",
   "metadata": {},
   "outputs": [
    {
     "name": "stdout",
     "output_type": "stream",
     "text": [
      "Initialized model with 3 features.\n",
      "V1 has dims (121, 121)\n",
      "V2 has dims (60, 60)\n",
      "V4 has dims (15, 15)\n"
     ]
    },
    {
     "data": {
      "image/png": "[encoded data removed]",
      "text/plain": [
       "<Figure size 720x720 with 5 Axes>"
      ]
     },
     "metadata": {
      "needs_background": "light"
     },
     "output_type": "display_data"
    }
   ],
   "source": [
    "parm_df = pd.read_csv(\"../parameters.csv\", index_col=0)\n",
    "model = Model(parm_df, features=[30, 60, 90])\n",
    "# na = generate_block(figure_orientation=45, bg_orientation=135)\n",
    "na = generate_block()\n",
    "na = np.full_like(na, 90)\n",
    "na[15:25, 15:25] = 30\n",
    "na[96:106, 96:106] = 60\n",
    "\n",
    "fig, axs = plt.subplots(1,5, figsize=(10,10))\n",
    "LGN = {}\n",
    "V1 = {}\n",
    "V2 = {}\n",
    "V4 = {}\n",
    "# for f in range(len(model.features)):\n",
    "#     # Each dictionary value should be a list of results where a result is a numpy array\n",
    "#     LGN[f] = [deepcopy(model.LGN[f].V)]\n",
    "#     V1[f] = [deepcopy(model.V1[f].V)]\n",
    "#     V2[f] = [deepcopy(model.V2[f].V)]\n",
    "#     V4[f] = [deepcopy(model.V4[f].V)]\n",
    "\n",
    "LGN[\"mean\"] = [np.mean( np.array([ model.LGN[f].V for f in range(len(model.features))]), axis=0 )]\n",
    "V1[\"mean\"] = [np.mean( np.array([ model.V1[f].V for f in range(len(model.features))]), axis=0 )]\n",
    "V2[\"mean\"] = [np.mean( np.array([ model.V2[f].V for f in range(len(model.features))]), axis=0 )]\n",
    "V4[\"mean\"] = [np.mean( np.array([ model.V4[f].V for f in range(len(model.features))]), axis=0 )]\n",
    "\n",
    "# LGN[\"sum\"] = [np.sum( np.array([ model.LGN[f].V for f in range(len(model.features))]), axis=0 )]\n",
    "# V1[\"sum\"] = [np.sum( np.array([ model.V1[f].V for f in range(len(model.features))]), axis=0 )]\n",
    "# V2[\"sum\"] = [np.sum( np.array([ model.V2[f].V for f in range(len(model.features))]), axis=0 )]\n",
    "# V4[\"sum\"] = [np.sum( np.array([ model.V4[f].V for f in range(len(model.features))]), axis=0 )]\n",
    "\n",
    "# axs[0,0].imshow(LGN[0][0])\n",
    "# axs[0,1].imshow(V1[0][0])\n",
    "# axs[0,2].imshow(V2[0][0])\n",
    "# axs[0,3].imshow(V4[0][0])\n",
    "# axs[1,0].imshow(LGN[1][0])\n",
    "# axs[1,1].imshow(V1[1][0])\n",
    "# axs[1,2].imshow(V2[1][0])\n",
    "# axs[1,3].imshow(V4[1][0])\n",
    "axs[0].imshow(na)\n",
    "axs[1].imshow(LGN[\"mean\"][0])\n",
    "axs[2].imshow(V1[\"mean\"][0])\n",
    "axs[3].imshow(V2[\"mean\"][0])\n",
    "axs[4].imshow(V4[\"mean\"][0])\n",
    "fig.tight_layout = True\n",
    "# print(model.parameters[\"V4\"][\"plus_supp\"])\n",
    "# plt.imshow(na)"
   ]
  },
  {
   "cell_type": "code",
   "execution_count": 55,
   "id": "871366cb",
   "metadata": {},
   "outputs": [
    {
     "data": {
      "text/plain": [
       "<matplotlib.image.AxesImage at 0x16cb0b790>"
      ]
     },
     "execution_count": 55,
     "metadata": {},
     "output_type": "execute_result"
    },
    {
     "data": {
      "image/png": "[encoded data removed]",
      "text/plain": [
       "<Figure size 432x288 with 1 Axes>"
      ]
     },
     "metadata": {
      "needs_background": "light"
     },
     "output_type": "display_data"
    }
   ],
   "source": [
    "plt.imshow(na)"
   ]
  },
  {
   "cell_type": "code",
   "execution_count": 56,
   "id": "a19b2134",
   "metadata": {},
   "outputs": [],
   "source": [
    "n = 600\n",
    "empty = np.zeros_like(na)\n",
    "for i in range(n):\n",
    "    if 40 < i:\n",
    "        model.update(na, 10e-3)\n",
    "    else:\n",
    "        model.update(empty, 10e-3)\n",
    "    V1[\"mean\"].append(np.mean( np.array([ model.V1[f].V for f in range(len(model.features))]), axis=0 ))\n",
    "    V4[\"mean\"].append(np.mean( np.array([ model.V4[f].V for f in range(len(model.features))]), axis=0 ))\n"
   ]
  },
  {
   "cell_type": "code",
   "execution_count": 57,
   "id": "f40ecfac",
   "metadata": {},
   "outputs": [
    {
     "data": {
      "text/plain": [
       "<matplotlib.image.AxesImage at 0x16c93cb50>"
      ]
     },
     "execution_count": 57,
     "metadata": {},
     "output_type": "execute_result"
    },
    {
     "data": {
      "image/png": "[encoded data removed]",
      "text/plain": [
       "<Figure size 720x720 with 2 Axes>"
      ]
     },
     "metadata": {
      "needs_background": "light"
     },
     "output_type": "display_data"
    }
   ],
   "source": [
    "cmap = 'plasma'\n",
    "n=50\n",
    "\n",
    "f, axs = plt.subplots(1,2, figsize=(10,10))\n",
    "axs[0].imshow(V1[\"mean\"][n], cmap=cmap)\n",
    "axs[1].imshow(V4[\"mean\"][n], cmap=cmap)\n"
   ]
  },
  {
   "cell_type": "code",
   "execution_count": 37,
   "id": "8e6aafcf",
   "metadata": {},
   "outputs": [],
   "source": [
    "def norm(x):\n",
    "#     print(np.max(x))\n",
    "    return x / np.max(x)\n",
    "#     return (x-np.min(x)) / (np.max(x) - np.min(x))\n",
    "\n",
    "\n",
    "\n",
    "def extract_portions(activity, x_min, x_max, y_min, y_max):\n",
    "    if y_min == y_max:\n",
    "        center = activity[:,x_min:x_max,y_min]\n",
    "    else:\n",
    "        center = activity[:,x_min:x_max,y_min:y_max]\n",
    "    \n",
    "    bg1 = activity[:,:x_min,:]\n",
    "    bg2 = activity[:,x_max:,:]\n",
    "    bg3 = activity[:,x_min:x_max,:y_min]\n",
    "    bg4 = activity[:,x_min:x_max,y_max:]\n",
    "    background = [bg1,bg2,bg3,bg4]\n",
    "    \n",
    "    if y_min == y_max:\n",
    "        edge1 = activity[:,x_min-1:x_min,y_min]\n",
    "        edge2 = activity[:,x_max:x_max+1,y_min]\n",
    "        edge3 = activity[:,x_min:x_max,y_min]\n",
    "        edge4 = activity[:,x_min:x_max,y_max]\n",
    "    else:\n",
    "        edge1 = activity[:,x_min-1:x_min,y_min:y_max]\n",
    "        edge2 = activity[:,x_max:x_max+1,y_min:y_max]\n",
    "        edge3 = activity[:,x_min:x_max,y_min-1:y_min]\n",
    "        edge4 = activity[:,x_min:x_max,y_max-1:y_max]\n",
    "    \n",
    "    edges = [edge1, edge2, edge3, edge4]\n",
    "    return center, background, edges\n",
    "    "
   ]
  },
  {
   "cell_type": "code",
   "execution_count": 46,
   "id": "ceecc54c",
   "metadata": {},
   "outputs": [],
   "source": [
    "center_60_1, background_60_1, _ = extract_portions(V4_arr, 2, 3, 3, 3)\n",
    "center_30_1, background_30_1, _ = extract_portions(V4_arr, 12, 13, 13, 13)"
   ]
  },
  {
   "cell_type": "code",
   "execution_count": 58,
   "id": "9676f89f",
   "metadata": {
    "scrolled": false
   },
   "outputs": [
    {
     "data": {
      "image/png": "[encoded data removed]",
      "text/plain": [
       "<Figure size 1440x720 with 2 Axes>"
      ]
     },
     "metadata": {
      "needs_background": "light"
     },
     "output_type": "display_data"
    }
   ],
   "source": [
    "_V1 = {}\n",
    "_V2={}\n",
    "_V4={}\n",
    "# version = 6\n",
    "# for f in range(len(model.features)):\n",
    "#     preprocessing[f] = np.load(f\"results{version}/preprocessing_{f}.npy\")\n",
    "#     _V1[f] = np.load(f\"results{version}/V1_{f}.npy\")\n",
    "#     _V2[f] = np.load(f\"results{version}/V2_{f}.npy\")\n",
    "#     _V4[f] = np.load(f\"results{version}/V4_{f}.npy\")\n",
    "\n",
    "version = \"1_0\"\n",
    "# preprocessing[\"mean\"] = np.load(f\"results{version}/preprocessing_mean.npy\")\n",
    "_V1[\"mean\"] = np.load(f\"results{version}/V1_mean.npy\")\n",
    "_V2[\"mean\"] = np.load(f\"results{version}/V2_mean.npy\")\n",
    "_V4[\"mean\"] = np.load(f\"results{version}/V4_mean.npy\")\n",
    "# preprocessing[\"sum\"] = np.load(f\"results{version}/preprocessing_sum.npy\")\n",
    "# _V1[\"sum\"] = np.load(f\"results{version}/V1_sum.npy\")\n",
    "# _V2[\"sum\"] = np.load(f\"results{version}/V2_sum.npy\")\n",
    "# _V4[\"sum\"] = np.load(f\"results{version}/V4_sum.npy\")\n",
    "\n",
    "\n",
    "f, axs = plt.subplots(1,2, figsize=(20,10))\n",
    "\n",
    "V1_arr = np.array(V1[\"mean\"])\n",
    "\n",
    "# na[15:25, 15:17] = 60\n",
    "# na[96:106, 102:104] = 30\n",
    "# center, background, edges = extract_portions(V1_arr, 48, 72, 48, 72)\n",
    "center, background, edges = extract_portions(V1_arr, 96,106, 102,104)\n",
    "V1max = np.max(V1_arr)\n",
    "# axs[0].imshow(center[600])\n",
    "center_mean = np.mean(center, axis=(1,2))\n",
    "bg_mean = np.mean([np.mean(V1_arr, axis=(1,2)) for bg in background], axis=0)\n",
    "edge_mean = np.mean([np.mean(edge, axis=(1,2)) for edge in edges], axis=0)\n",
    "\n",
    "# axs[0].plot((center_mean / V1max), 'b', label='center')\n",
    "# axs[0].plot((bg_mean / V1max), 'k', label='background')\n",
    "# axs[0].plot((edge_mean / V1max), 'r', label='edge')\n",
    "# axs[0].legend()\n",
    "# axs[0].title.set_text(\"Activity across V1\")\n",
    "\n",
    "V4_arr = np.array(V4[\"mean\"])\n",
    "\n",
    "# center, background, edges = extract_portions(V4_arr, 6, 9, 6, 9)\n",
    "center, background, edges = extract_portions(V4_arr, 2, 3, 2, 3)\n",
    "# print(V4_arr[:,2:3,2])\n",
    "center_mean = np.mean(center, axis=(1))\n",
    "bg_mean = np.mean([np.mean(V1_arr, axis=(1,2)) for bg in background], axis=0)\n",
    "# edge_mean = np.mean([np.mean(edge, axis=(1,2)) for edge in edges], axis=0)\n",
    "\n",
    "V4max = np.max(V4_arr)\n",
    "\n",
    "axs[1].plot(norm(center_mean), 'b', label='center')\n",
    "axs[1].plot(norm(bg_mean), 'k', label='background')\n",
    "# axs[1].plot((edge_mean / V4max), 'r', label='edge')\n",
    "axs[1].legend()\n",
    "axs[1].title.set_text(\"Activity across V4 60 degree block\")\n",
    "\n",
    "\n",
    "center, background, edges = extract_portions(V4_arr, 12, 13, 12, 13)\n",
    "# print(V4_arr[:,2:3,2])\n",
    "center_mean = np.mean(center, axis=(1))\n",
    "bg_mean = np.mean([np.mean(V1_arr, axis=(1,2)) for bg in background], axis=0)\n",
    "# edge_mean = np.mean([np.mean(edge, axis=(1,2)) for edge in edges], axis=0)\n",
    "\n",
    "V4max = np.max(V4_arr)\n",
    "\n",
    "axs[0].plot(norm(center_mean), 'b', label='center')\n",
    "axs[0].plot(norm(bg_mean), 'k', label='background')\n",
    "# axs[1].plot((edge_mean / V4max), 'r', label='edge')\n",
    "axs[0].legend()\n",
    "axs[0].title.set_text(\"Activity across V4 30 degree block\")\n",
    "\n",
    "\n",
    "# V1_arr = np.array(_V1[\"sum\"])\n",
    "\n",
    "# center, background, edges = extract_portions(V1_arr, 48, 72, 48, 72)\n",
    "\n",
    "# center_mean = np.mean(center, axis=(1,2))\n",
    "# bg_mean = np.sum([np.mean(bg, axis=(1,2)) for bg in background], axis=0)\n",
    "# edge_mean = np.sum([np.mean(edge, axis=(1,2)) for edge in edges], axis=0)\n",
    "\n",
    "# axs[1,0].plot(norm(center_mean), 'b', label='center')\n",
    "# axs[1,0].plot(norm(bg_mean), 'k', label='background')\n",
    "# axs[1,0].plot(norm(edge_mean), 'r', label='edge')\n",
    "# axs[1,0].legend()\n",
    "\n",
    "\n",
    "# V4_arr = norm(np.array(_V4[\"sum\"]))\n",
    "# center, background, edges = extract_portions(V4_arr, 6, 9, 6, 9)\n",
    "# center_mean = np.mean(center, axis=(1,2))\n",
    "# bg_mean = np.mean([np.mean(bg, axis=(1,2)) for bg in background], axis=0)\n",
    "# edge_mean = np.mean([np.mean(edge, axis=(1,2)) for edge in edges], axis=0)\n",
    "\n",
    "\n",
    "# axs[1,1].plot(norm(center_mean), 'b', label='center')\n",
    "# axs[1,1].plot(norm(bg_mean), 'k', label='background')\n",
    "# axs[1,1].plot(norm(edge_mean), 'r', label='edge')\n",
    "# axs[1,1].legend()"
   ]
  },
  {
   "cell_type": "code",
   "execution_count": 49,
   "id": "a040f244",
   "metadata": {},
   "outputs": [],
   "source": [
    "center_60_2, background_60_2, _ = extract_portions(V4_arr, 2, 3, 3, 3)\n",
    "center_30_2, background_30_2, _ = extract_portions(V4_arr, 12, 13, 13, 13)"
   ]
  },
  {
   "cell_type": "code",
   "execution_count": 26,
   "id": "a2032db5",
   "metadata": {},
   "outputs": [
    {
     "data": {
      "text/plain": [
       "<matplotlib.image.AxesImage at 0x168f0bcd0>"
      ]
     },
     "execution_count": 26,
     "metadata": {},
     "output_type": "execute_result"
    },
    {
     "data": {
      "image/png": "[encoded data removed]",
      "text/plain": [
       "<Figure size 432x288 with 1 Axes>"
      ]
     },
     "metadata": {
      "needs_background": "light"
     },
     "output_type": "display_data"
    }
   ],
   "source": [
    "plt.imshow(np.mean( np.array([ model.V4[f].V for f in range(len(model.features))]), axis=0 ))"
   ]
  },
  {
   "cell_type": "code",
   "execution_count": 66,
   "id": "6373178b",
   "metadata": {},
   "outputs": [
    {
     "data": {
      "text/plain": [
       "array([[2, 2, 2, 2, 2, 2, 2, 2, 2, 2, 2, 2, 2, 2, 2, 2, 2, 2, 2, 2, 2, 2,\n",
       "        2, 2, 2, 2, 2, 2, 2, 2, 2, 2, 2, 2, 2, 2, 2, 2, 2, 2]])"
      ]
     },
     "execution_count": 66,
     "metadata": {},
     "output_type": "execute_result"
    }
   ],
   "source": [
    "import math\n",
    "na = generate_block()\n",
    "\n",
    "Stimulus = np.tile(0,[121, 121, 2])\n",
    "Stimulus[:,:,0] = na\n",
    "Stimulus[:,:,1] = 1-na\n",
    "\n",
    "StimulusSeq = np.zeros((121, 121, 2, 2))\n",
    "StimulusSeq[:,:,:,0] = Stimulus\n",
    "StimulusSeq[:,:,:,1] = np.zeros((121, 121, 2))\n",
    "IndexSeq = np.tile(2,[1,40]) #...\n",
    "#             repmat(1,1,stimulusIterNum) ...\n",
    "#             repmat(2,1,postIterNum)];\n",
    "IndexSeq"
   ]
  },
  {
   "cell_type": "code",
   "execution_count": 25,
   "id": "585e020f",
   "metadata": {},
   "outputs": [
    {
     "ename": "IndexError",
     "evalue": "too many indices for array: array is 1-dimensional, but 2 were indexed",
     "output_type": "error",
     "traceback": [
      "\u001b[0;31m---------------------------------------------------------------------------\u001b[0m",
      "\u001b[0;31mIndexError\u001b[0m                                Traceback (most recent call last)",
      "Input \u001b[0;32mIn [25]\u001b[0m, in \u001b[0;36m<cell line: 2>\u001b[0;34m()\u001b[0m\n\u001b[1;32m      1\u001b[0m mean_activity_v1 \u001b[38;5;241m=\u001b[39m model\u001b[38;5;241m.\u001b[39mV1_trace\n\u001b[0;32m----> 2\u001b[0m mean_activity_v4 \u001b[38;5;241m=\u001b[39m \u001b[43mnp\u001b[49m\u001b[38;5;241;43m.\u001b[39;49m\u001b[43marray\u001b[49m\u001b[43m(\u001b[49m\u001b[43mmodel\u001b[49m\u001b[38;5;241;43m.\u001b[39;49m\u001b[43mV4_trace\u001b[49m\u001b[43m)\u001b[49m\u001b[43m[\u001b[49m\u001b[43m:\u001b[49m\u001b[43m,\u001b[49m\u001b[43m:\u001b[49m\u001b[38;5;241;43m2\u001b[39;49m\u001b[43m]\u001b[49m\n\u001b[1;32m      3\u001b[0m \u001b[38;5;28mprint\u001b[39m(mean_activity_v4\u001b[38;5;241m.\u001b[39mshape)\n\u001b[1;32m      4\u001b[0m maxV1 \u001b[38;5;241m=\u001b[39m np\u001b[38;5;241m.\u001b[39mmax(mean_activity_v1)\n",
      "\u001b[0;31mIndexError\u001b[0m: too many indices for array: array is 1-dimensional, but 2 were indexed"
     ]
    }
   ],
   "source": [
    "mean_activity_v1 = model.V1_trace\n",
    "mean_activity_v4 = np.array(model.V4_trace)[:,:2]\n",
    "print(mean_activity_v4.shape)\n",
    "maxV1 = np.max(mean_activity_v1)\n",
    "maxV4 = np.max(mean_activity_v4)\n",
    "mean_activity_v1 /= maxV1\n",
    "mean_activity_v4 /= maxV4\n",
    "# mean_activity_v4[:,0] /= np.max(mean_activity_v4[:,0])\n",
    "# mean_activity_v4[:,1] /= np.max(mean_activity_v4[:,1])\n",
    "\n",
    "slice_activity_v1 = model.V1_slice / maxV1\n",
    "slice_activity_v4 = model.V4_slice / maxV4\n",
    "\n",
    "offsetRfV1 = int(model.V1[0].input_dim / 6)\n",
    "offsetRfV4 = int(model.V4[0].input_dim / 6)\n",
    "\n",
    "rfLen = 1;\n",
    "\n",
    "plt.plot(mean_activity_v4, label=['background', 'center'])\n",
    "plt.legend()"
   ]
  },
  {
   "cell_type": "code",
   "execution_count": 18,
   "id": "7833d791",
   "metadata": {},
   "outputs": [],
   "source": [
    "version = \"small_diff\"\n",
    "\n",
    "Path(f\"results{version}\").mkdir(parents=True, exist_ok=True)\n",
    "# for f in model.features:\n",
    "#     np.save(f\"results{version}/preprocessing_{f}.npy\", preprocessing[f])\n",
    "#     np.save(f\"results{version}/V1_{f}.npy\", V1[f])\n",
    "#     np.save(f\"results{version}/V2_{f}.npy\", V2[f])\n",
    "#     np.save(f\"results{version}/V4_{f}.npy\", V4[f])\n",
    "\n",
    "np.save(f\"results{version}/preprocessing_mean.npy\", preprocessing[\"mean\"])\n",
    "np.save(f\"results{version}/V1_mean.npy\", V1[\"mean\"])\n",
    "np.save(f\"results{version}/V2_mean.npy\", V2[\"mean\"])\n",
    "np.save(f\"results{version}/V4_mean.npy\", V4[\"mean\"])\n",
    "# np.save(f\"results{version}/preprocessing_sum.npy\", preprocessing[\"sum\"])\n",
    "# np.save(f\"results{version}/V1_sum.npy\", V1[\"sum\"])\n",
    "# np.save(f\"results{version}/V2_sum.npy\", V2[\"sum\"])\n",
    "# np.save(f\"results{version}/V4_sum.npy\", V4[\"sum\"])"
   ]
  },
  {
   "cell_type": "code",
   "execution_count": 6,
   "id": "e8fbed20",
   "metadata": {},
   "outputs": [
    {
     "data": {
      "text/plain": [
       "(601, 121, 121)"
      ]
     },
     "execution_count": 6,
     "metadata": {},
     "output_type": "execute_result"
    }
   ],
   "source": [
    "np.array(V1[\"mean\"]).shape"
   ]
  },
  {
   "cell_type": "code",
   "execution_count": null,
   "id": "498ba573",
   "metadata": {},
   "outputs": [],
   "source": []
  },
  {
   "cell_type": "code",
   "execution_count": 36,
   "id": "af8cc85b",
   "metadata": {},
   "outputs": [
    {
     "data": {
      "text/plain": [
       "20"
      ]
     },
     "execution_count": 36,
     "metadata": {},
     "output_type": "execute_result"
    }
   ],
   "source": [
    "model.V1[0].bck_x"
   ]
  },
  {
   "cell_type": "code",
   "execution_count": 17,
   "id": "463fbb1d",
   "metadata": {},
   "outputs": [
    {
     "data": {
      "text/plain": [
       "0.41039682145593903"
      ]
     },
     "execution_count": 17,
     "metadata": {},
     "output_type": "execute_result"
    }
   ],
   "source": [
    "center, bg, egdes = extract_portions(np.array(V4[\"mean\"]), 6, 9, 6, 9)\n",
    "np.mean(V4[\"mean\"][600])"
   ]
  },
  {
   "cell_type": "code",
   "execution_count": null,
   "id": "753eb30f",
   "metadata": {},
   "outputs": [],
   "source": []
  }
 ],
 "metadata": {
  "kernelspec": {
   "display_name": "model1",
   "language": "python",
   "name": "model1"
  },
  "language_info": {
   "codemirror_mode": {
    "name": "ipython",
    "version": 3
   },
   "file_extension": ".py",
   "mimetype": "text/x-python",
   "name": "python",
   "nbconvert_exporter": "python",
   "pygments_lexer": "ipython3",
   "version": "3.9.10"
  }
 },
 "nbformat": 4,
 "nbformat_minor": 5
}
